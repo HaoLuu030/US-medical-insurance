{
 "cells": [
  {
   "cell_type": "markdown",
   "metadata": {},
   "source": [
    "# U.S. Medical Insurance Costs"
   ]
  },
  {
   "cell_type": "markdown",
   "metadata": {},
   "source": [
    "### Dataset overview\n",
    "\n",
    "The dataset provides medical insurance information for individual clients from the United States\n",
    "\n",
    "---\n",
    "### Variables in the Dataset(7 total):\n",
    "\n",
    "- **Age**: an integer indicating the client's age.\n",
    "- **Sex**: a *categorical variable* with two possible values - 'male' and 'female'\n",
    "- **BMI**: *a numerical variable* short for \"body mass index\", represented as a float\n",
    "- **Children**: a *numerical variable* showing the number of children for each client represented by an integer\n",
    "- **Smoker**: a *categorical binary variable* that indicates whether a client smokes ('yes') or not ('no').\n",
    "- **Charges**: a *continuous numerical variable* (represented as a float), denoting the insurance cost for each client (in USD)\n",
    "- **Region**: *a categorical nominal variable* representing the client's geographical region (e.g., northwest, southeast), rather than a specific city or district\n",
    "\n",
    "---\n",
    "\n",
    "### Goal\n",
    "- Apply what I have been learning about data science by exploring the dataset hands-on.\n",
    "- Develop the habit of not only performing analysis, but also **explaining the meaning and purpose behind each finding**.\n",
    "\n",
    "> For example, it is not enough to just ask:\n",
    "> *\"What are the unique values for categorical variables like 'region', 'sex', or 'smoker'?\"*\n",
    "> I should also clarify **why** I care about those values - what insights I can draw from finding the unique values of 'region' for example, and how I can relate this to other variables\n",
    "\n",
    "- The overall goal is to be **specific**, deliberate, and clear in how I communicate insights - not just what I observe, but what it really means.\n",
    "\n",
    "---\n",
    "\n",
    "### Key exploratory questions to investigate using Python:\n",
    "\n",
    "> How many *records* are there in the dataset?\n",
    "- To understand the size of the dataset, I’ll count the number of rows using Python. This helps establish how much data I’m working with and can be useful later for percent-based calculations or summary reporting.\n",
    "> What are the unique values or categories for categorical variables such as 'region', 'sex', 'smoker', or 'children'?\n",
    "- The mean values for numerical variables (e.g., average age, number of children, insurance cost, or BMI)\n",
    "- What general insights can be drawn from these stastistics? For exmaple:\n",
    "    - The average BMI may indicate the general health condition of the clients\n",
    "    - The avereage age my help identify the dominant age group in the dataset\n",
    "    - The proportion of smokers shows how common smoking is among clients\n",
    "    - gender distribution may reveal whethere males or females are more likely to have medical insurance\n",
    "    - What is the typical insurance cost?\n",
    "\n",
    "---\n"
   ]
  }
 ],
 "metadata": {
  "kernelspec": {
   "display_name": "myenv",
   "language": "python",
   "name": "python3"
  },
  "language_info": {
   "codemirror_mode": {
    "name": "ipython",
    "version": 3
   },
   "file_extension": ".py",
   "mimetype": "text/x-python",
   "name": "python",
   "nbconvert_exporter": "python",
   "pygments_lexer": "ipython3",
   "version": "3.13.5"
  }
 },
 "nbformat": 4,
 "nbformat_minor": 4
}
