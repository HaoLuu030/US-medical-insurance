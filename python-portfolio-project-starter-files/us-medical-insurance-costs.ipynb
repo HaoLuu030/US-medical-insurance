{
 "cells": [
  {
   "cell_type": "markdown",
   "metadata": {},
   "source": [
    "# U.S. Medical chargess"
   ]
  },
  {
   "cell_type": "markdown",
   "metadata": {},
   "source": [
    "### Dataset overview\n",
    "\n",
    "The dataset provides medical insurance information for individual clients from the United States.\n",
    "\n",
    "---\n",
    "\n",
    "### Goals\n",
    "- Solidify my understanding of data analysis concepts by exploring the real-world dataset.\n",
    "- Formulate exploratory questions that uncover meaningful patterns in the dataset - for example, compare the costs of insurance between smokers and non-smokers. At this stage, it is not important to evaluate if my questions are strong, but to generate ideas freely as I will revisit them in the future when my analytical skills are stronger\n",
    "- Begin to practice how to interpret findings even if the conclusions are tentative. The aim is to build the habit of turning observations into meaningful insights.\n",
    "\n",
    "---\n",
    "\n",
    "### Basic exploratory questions:\n",
    "\n",
    "- **How many *records* are there in the dataset?**\n",
    "> This is the most basic information to find out in the dataset. This establish an understanding of how large the dataset is and the result can be useful for downstream percentage-based calculations. \n",
    "- **What are the unique values or categories for categorical variables such as `region`, `sex`, `smoker`? and even numerical varibles with limited values like `children`**?\n",
    "> This step helps define the structure of each categorical variables. Knowing all the possible values each variable can take is essential for downstream tasks such as analyzing the *distribution within a variable* or category-based *aggregations* (e.g., group by `region` or the smoker `status`).\n",
    "> Although `children` is a numerical variable, its small number of distinct values (e.g., 0 - 9) makes it suitable for grouping and aggregation like a categorial variable.\n",
    "- **What are the distributions within such categories?** (e.g., how many people in the dataset are a smoker and how many are not)\n",
    "> Examining the distribution allows me to understand which group dominates the dataset(e.g., whether most clients are male or female, or which region is most represented).\n",
    "> These distributions also support downstream tasks such as percentage-based calculations and subgroup comparisons and aggregations.\n",
    "- **What are the mean (average) values for numerical variables such as `age`, `children`, `charges`, and `bmi`?**  \n",
    "> Calculating the mean helps establish the central tendency of each variable in the dataset.  \n",
    "> It is important to interpret the mean as a reference point — not as the most likely value, but as a mathematical center. To better understand the shape and spread of the data, I plan to explore additional metrics such as *median*, *mode*, and *standard deviation* as I continue learning.\n",
    "\n",
    "---\n",
    "\n",
    "### Some Ideas for further exploration:\n",
    "- What are the proportions of smokers and non-smokers in the population?\n",
    "- What is the average BMI of a typical smoker compared to a non-smoker?\n",
    "- What is the avereage charges of a typical smoker compared to a non-smoker? \n",
    "- Which region has the highest average BMI?\n",
    "- Which region has the highest avereage insurnace costs?\n",
    "- Which region has the most smokers?\n",
    "- What is the proportion of the female clients who smoke against the female clients who do not smoke?\n",
    "- What is the proportion of the male clients who smoke against the male clients who do not smoke?\n",
    "- What is the proportion of the clients who do not have any children compared to the ones who have at least one children?\n",
    "- What are the average chargess of these two groups?\n",
    "- What is the average age of a typical female client and a male client?"
   ]
  },
  {
   "cell_type": "markdown",
   "metadata": {},
   "source": [
    "### Basic exploration"
   ]
  },
  {
   "cell_type": "markdown",
   "metadata": {},
   "source": [
    "Import csv library"
   ]
  },
  {
   "cell_type": "code",
   "execution_count": 279,
   "metadata": {},
   "outputs": [],
   "source": [
    "import csv"
   ]
  },
  {
   "cell_type": "markdown",
   "metadata": {},
   "source": [
    "Basic information of the dataset\n",
    "\n",
    "- How many lines are there in the dataset?\n",
    "- What are the headers of the dataset?\n",
    "- How is the data organized?"
   ]
  },
  {
   "cell_type": "code",
   "execution_count": 280,
   "metadata": {},
   "outputs": [
    {
     "name": "stdout",
     "output_type": "stream",
     "text": [
      "['age', 'sex', 'bmi', 'children', 'smoker', 'region', 'charges']\n",
      "['19', 'female', '27.9', '0', 'yes', 'southwest', '16884.924']\n",
      "['18', 'male', '33.77', '1', 'no', 'southeast', '1725.5523']\n",
      "['28', 'male', '33', '3', 'no', 'southeast', '4449.462']\n",
      "['33', 'male', '22.705', '0', 'no', 'northwest', '21984.47061']\n",
      "['32', 'male', '28.88', '0', 'no', 'northwest', '3866.8552']\n",
      "['31', 'female', '25.74', '0', 'no', 'southeast', '3756.6216']\n",
      "['46', 'female', '33.44', '1', 'no', 'southeast', '8240.5896']\n",
      "['37', 'female', '27.74', '3', 'no', 'northwest', '7281.5056']\n",
      "['37', 'male', '29.83', '2', 'no', 'northeast', '6406.4107']\n",
      "['60', 'female', '25.84', '0', 'no', 'northwest', '28923.13692']\n",
      "----------------------------------------------------------------------------------------------------\n",
      "There are 1338 rows in the dataset.\n"
     ]
    }
   ],
   "source": [
    "row_count = 0\n",
    "rows_get = 10\n",
    "horizontal_line_length = 100\n",
    "mode = 'table'\n",
    "\n",
    "header = []\n",
    "preview_rows = []\n",
    "\n",
    "with open('insurance.csv') as insurance_csv:\n",
    "    if mode == 'dict':\n",
    "        insurance_reader = csv.DictReader(insurance_csv)\n",
    "        header = insurance_reader.fieldnames\n",
    "    else:\n",
    "        insurance_reader = csv.reader(insurance_csv)\n",
    "        # skip the header row\n",
    "        header = next(insurance_reader)\n",
    "        print(header)\n",
    "    for i, row in enumerate(insurance_reader):\n",
    "        if i < rows_get:\n",
    "            preview_rows.append(row)\n",
    "        row_count += 1\n",
    "        \n",
    "\n",
    "# print a horizontal line to separate the output\n",
    "for row in preview_rows:\n",
    "    print(row)\n",
    "print(\"-\" * horizontal_line_length)\n",
    "print(\"There are \" + str(row_count) + \" rows in the dataset.\")"
   ]
  },
  {
   "cell_type": "markdown",
   "metadata": {},
   "source": [
    "There are 7 variables in the dataset:\n",
    "\n",
    "- `age`: a *discrete numerical variable* indicating the clients' age\n",
    "- `sex`: a *categorical variable* with two possible values - 'male' and 'female'\n",
    "- `bmi`: a *continuous numerical variable* short for \"body mass index\", represented as a float\n",
    "- `children`: a *discrete numerical variable* showing the number of children for each client represented by an integer\n",
    "- `smoker`: a *categorical binary variable* that indicates whether a client smokes ('yes') or not ('no')\n",
    "- `charges`: a *continuous numerical variable* (represented as a float), denoting the charges for each client (in USD)\n",
    "- `region`: a *categorical nominal variable* representing the client's geographical region (e.g., northwest, southeast), rather than a specific city or district\n"
   ]
  },
  {
   "cell_type": "markdown",
   "metadata": {},
   "source": [
    "Load values into Python using a dictionary"
   ]
  },
  {
   "cell_type": "code",
   "execution_count": 281,
   "metadata": {},
   "outputs": [],
   "source": [
    "# Create lists to store the values of different variables\n",
    "insurance_dict = {\n",
    "    'age': [],\n",
    "    'sex': [],\n",
    "    'bmi': [],\n",
    "    'children': [],\n",
    "    'smoker': [],\n",
    "    'charges': [],\n",
    "    'region': []\n",
    "}"
   ]
  },
  {
   "cell_type": "markdown",
   "metadata": {},
   "source": [
    "Open the file and load the data into the dictornary created in the step above.  \n",
    "- Since all of the loaded data is in string form values of certain variables need to be converted accordingly.\n",
    "- Check if there is any missing values in any variables"
   ]
  },
  {
   "cell_type": "code",
   "execution_count": 282,
   "metadata": {},
   "outputs": [
    {
     "name": "stdout",
     "output_type": "stream",
     "text": [
      "There are no missing values\n"
     ]
    }
   ],
   "source": [
    "# load the data from the file into the according variables\n",
    "with open('insurance.csv', newline='') as insurance_csv:\n",
    "    insurance_reader = csv.DictReader(insurance_csv)\n",
    "    # append the values of each row to the respecting lists\n",
    "    # convert the values if needed\n",
    "    for row in insurance_reader:\n",
    "        insurance_dict['age'].append(int(row['age']))\n",
    "        insurance_dict['sex'].append(row['sex'])\n",
    "        insurance_dict['bmi'].append(float(row['bmi']))\n",
    "        insurance_dict['children'].append(int(row['children']))\n",
    "        insurance_dict['smoker'].append(row['smoker'])\n",
    "        insurance_dict['region'].append(row['region'])\n",
    "        insurance_dict['charges'].append(float(row['charges']))  \n",
    "\n",
    "# check if there is any missing  values in any columns\n",
    "missing_columns = [col for col, values in insurance_dict.items() if len(values) < row_count]\n",
    "if missing_columns:\n",
    "    print(\"Missing values are found in: \", \", \".join(missing_columns))\n",
    "else:\n",
    "    print(\"There are no missing values\")"
   ]
  },
  {
   "cell_type": "markdown",
   "metadata": {},
   "source": [
    "#### Figure out the unique values for the following variables: `smoker`, `region`,  `sex`, `age`, and `children`"
   ]
  },
  {
   "cell_type": "code",
   "execution_count": 283,
   "metadata": {},
   "outputs": [
    {
     "name": "stdout",
     "output_type": "stream",
     "text": [
      "Display unique values of variables:\n",
      "----------------------------------------------------------------------------------------------------\n",
      "The unique values for smoker are: no, yes\n",
      "The unique values for region are: northeast, northwest, southeast, southwest\n",
      "The unique values for sex are: female, male\n",
      "The unique values for age are: 18, 19, 20, 21, 22, 23, 24, 25, 26, 27, 28, 29, 30, 31, 32, 33, 34, 35, 36, 37, 38, 39, 40, 41, 42, 43, 44, 45, 46, 47, 48, 49, 50, 51, 52, 53, 54, 55, 56, 57, 58, 59, 60, 61, 62, 63, 64\n",
      "The unique values for children are: 0, 1, 2, 3, 4, 5\n"
     ]
    }
   ],
   "source": [
    "# Return the dictionary of a variable's unique values (key) and their distribution (value)\n",
    "def get_unique_dict_with_count(my_list):\n",
    "    result = {}\n",
    "    for element in my_list:\n",
    "        # Make sure element exists in the dictionary\n",
    "        result.setdefault(element, {})\n",
    "        # Use get to avoid KeyError for the right hand side\n",
    "        result[element]['count'] = result[element].get('count', 0) + 1\n",
    "    return result\n",
    "# Get the dictionary for the selected fields\n",
    "unique_smoker_dict = get_unique_dict_with_count(insurance_dict['smoker'])\n",
    "unique_region_dict = get_unique_dict_with_count(insurance_dict['region'])\n",
    "unique_sex_dict = get_unique_dict_with_count(insurance_dict['sex'])\n",
    "unique_age_dict = get_unique_dict_with_count(insurance_dict['age'])\n",
    "unique_children_dict = get_unique_dict_with_count(insurance_dict['children'])\n",
    "\n",
    "\n",
    "def display_value(variable, my_dict, type_ = 'unique'):\n",
    "    if type_ == 'distribution':\n",
    "        print(\"Distribution within {variable}:\".format(variable=variable))\n",
    "        for key, value in my_dict.items():\n",
    "            print(\"  \\'{key}\\' has {value} instances.\".format(key=key, value=value['count']))\n",
    "    elif type_ == 'total_row':\n",
    "        num_of_rows = 0\n",
    "        for value in my_dict.values():\n",
    "            num_of_rows += value\n",
    "        print(\"{variable} has {num_of_rows} rows in total.\".format(variable=variable, num_of_rows = num_of_rows))\n",
    "    # default value is to display the unique values\n",
    "    else:\n",
    "        # convert the list of unique values into string\n",
    "        unique_values = str(sorted(list(my_dict.keys())))[1:-1].replace('\\'', '')\n",
    "        print(\"The unique values for {variable} are: {values}\".format(variable = variable, values = unique_values))\n",
    "\n",
    "print(\"Display unique values of variables:\")\n",
    "print('-' * horizontal_line_length)\n",
    "display_value('smoker', unique_smoker_dict)\n",
    "display_value('region', unique_region_dict)\n",
    "display_value('sex', unique_sex_dict)\n",
    "display_value('age', unique_age_dict)\n",
    "display_value('children', unique_children_dict)"
   ]
  },
  {
   "cell_type": "markdown",
   "metadata": {},
   "source": [
    "#### Comment on the unique values:\n",
    "- For categorial values such as `smoker`, `region`, or `sex`, the outcome is as expected in the overview, and there does not seem to be any abnormal values due to mispelling.\n",
    "- For numerical values, `children` has a small cardinality (6 ranging from 0 to 5), which might be helpful for grouping and aggregation while `age` has 47 unique values (this value is aquired by providing the argument 'length' to the `display_value` function), and might not be that helpful for grouping like `children`, so it also might not be helpful to calculate the distribution within `children`"
   ]
  },
  {
   "cell_type": "markdown",
   "metadata": {},
   "source": [
    "#### Figure out the distribution for the following values: `smoker`, `region`, `sex`, `children`"
   ]
  },
  {
   "cell_type": "code",
   "execution_count": 284,
   "metadata": {},
   "outputs": [
    {
     "name": "stdout",
     "output_type": "stream",
     "text": [
      "Display the distribution for certain variables: \n",
      "----------------------------------------------------------------------------------------------------\n",
      "Distribution within smoker:\n",
      "  'yes' has 274 instances.\n",
      "  'no' has 1064 instances.\n",
      "Distribution within region:\n",
      "  'southwest' has 325 instances.\n",
      "  'southeast' has 364 instances.\n",
      "  'northwest' has 325 instances.\n",
      "  'northeast' has 324 instances.\n",
      "Distribution within sex:\n",
      "  'female' has 662 instances.\n",
      "  'male' has 676 instances.\n",
      "Distribution within children:\n",
      "  '0' has 574 instances.\n",
      "  '1' has 324 instances.\n",
      "  '3' has 157 instances.\n",
      "  '2' has 240 instances.\n",
      "  '5' has 18 instances.\n",
      "  '4' has 25 instances.\n"
     ]
    }
   ],
   "source": [
    "print(\"Display the distribution for certain variables: \")\n",
    "print('-' * horizontal_line_length)\n",
    "display_value('smoker', unique_smoker_dict, 'distribution')\n",
    "display_value('region', unique_region_dict, 'distribution')\n",
    "display_value('sex', unique_sex_dict, 'distribution')\n",
    "display_value('children', unique_children_dict, 'distribution')\n"
   ]
  },
  {
   "cell_type": "markdown",
   "metadata": {},
   "source": [
    "#### Comment on the distribution:\n",
    "- `smoker`: there are way more non-smoker clients than smoker clients (1064 against 274).\n",
    "- `region`: the distribution is fairly even, so all the dataset is representative of 4 regions.\n",
    "- `sex`: the gap between the number of male and female clients is not big, indicating that neither male or female is underepresented and overrepresented here.\n",
    "- `children`: one outstanding feature of the distribution among the number of `children` is that the number of clients who have no children also make up half of our population.\n",
    "- Overall, the distribution within most of the variables inspected is relatively balanced. In order to get a better picture, I can use other concepts to interpret these numbers such as proportion and percentage over the whole population."
   ]
  },
  {
   "cell_type": "markdown",
   "metadata": {},
   "source": [
    "#### Calculate the average values for the following vairables: `age`, `children`, `charges`, and `bmi`"
   ]
  },
  {
   "cell_type": "code",
   "execution_count": 285,
   "metadata": {},
   "outputs": [
    {
     "name": "stdout",
     "output_type": "stream",
     "text": [
      "The average for age is 39.21\n",
      "The average for children is 1.09\n",
      "The average for charges is 13270.42\n",
      "The average for bmi is 30.66\n"
     ]
    }
   ],
   "source": [
    "def calculate_average(variable, my_list):\n",
    "    total = 0\n",
    "    for item in my_list:\n",
    "        total += item\n",
    "    print(\"The average for {variable} is {average}\".format(variable = variable, average = round(total / len(my_list), ndigits=2)))\n",
    "\n",
    "calculate_average('age', insurance_dict['age'])\n",
    "calculate_average('children', insurance_dict['children'])\n",
    "calculate_average('charges', insurance_dict['charges'])\n",
    "calculate_average('bmi', insurance_dict['bmi'])"
   ]
  },
  {
   "cell_type": "markdown",
   "metadata": {},
   "source": [
    "### Extra exploration:"
   ]
  },
  {
   "cell_type": "markdown",
   "metadata": {},
   "source": [
    "#### Proportion between smokers and non-smokers"
   ]
  },
  {
   "cell_type": "code",
   "execution_count": 286,
   "metadata": {},
   "outputs": [
    {
     "name": "stdout",
     "output_type": "stream",
     "text": [
      "There are almost 0.3 smokers for every one non-smoker client.\n",
      "There are almost 3.9 non-smoker client for every one smoker client.\n"
     ]
    }
   ],
   "source": [
    "print(\"There are almost \" + str(round(unique_smoker_dict['yes']['count'] / unique_smoker_dict['no']['count'], ndigits=1)) + \" smokers for every one non-smoker client.\")\n",
    "print(\"There are almost \" + str(round(unique_smoker_dict['no']['count'] / unique_smoker_dict['yes']['count'], ndigits=1)) + \" non-smoker client for every one smoker client.\")"
   ]
  },
  {
   "cell_type": "markdown",
   "metadata": {},
   "source": [
    "*The number of smoker-client dominates the whole dataset. Specifically, for every one smoker client, there are almost 4 smoker clients, indicating an imbalance in representation for this variable*"
   ]
  },
  {
   "cell_type": "markdown",
   "metadata": {},
   "source": [
    "### Some Ideas for further exploration:\n",
    "- What are the proportions of smokers and non-smokers in the population?\n",
    "- What is the average BMI of a typical smoker compared to a non-smoker?\n",
    "- What is the avereage charges of a typical smoker compared to a non-smoker? \n",
    "- Which region has the highest average BMI?\n",
    "- Which region has the highest avereage insurnace costs?\n",
    "- Which region has the most smokers?\n",
    "- What is the proportion of the female clients who smoke against the female clients who do not smoke?\n",
    "- What is the proportion of the male clients who smoke against the male clients who do not smoke?\n",
    "- What is the proportion of the clients who do not have any children compared to the ones who have at least one children?\n",
    "- What are the average charges of these two groups?\n",
    "- What is the average age of a typical female client and a male client?"
   ]
  },
  {
   "cell_type": "markdown",
   "metadata": {},
   "source": [
    "#### Average `bmi` and `charges` of a typical smoker compared to a non-smoker"
   ]
  },
  {
   "cell_type": "code",
   "execution_count": 287,
   "metadata": {},
   "outputs": [
    {
     "name": "stdout",
     "output_type": "stream",
     "text": [
      "The average BMI of non-smoker clients:  30.651795112781922\n",
      "The average BMI of smoker clients 30.708448905109503\n",
      "----------------------------------------------------------------------------------------------------\n",
      "The average charges of a typical non_smoker client:  8434.268297856199\n",
      "The average charges of a typical smoker client:  32050.23183153285\n"
     ]
    }
   ],
   "source": [
    "for i in range(row_count):\n",
    "    smoker = insurance_dict['smoker'][i] # either 'yes' or 'no'\n",
    "    unique_smoker_dict[smoker]['total_bmi'] = unique_smoker_dict[smoker].get('total_bmi', 0) + insurance_dict['bmi'][i]\n",
    "    unique_smoker_dict[smoker]['total_charges'] = unique_smoker_dict[smoker].get('total_charges', 0) + insurance_dict['charges'][i]\n",
    "\n",
    "print(\"The average BMI of non-smoker clients: \", unique_smoker_dict['no']['total_bmi'] / unique_smoker_dict['no']['count'])\n",
    "print(\"The average BMI of smoker clients\", unique_smoker_dict['yes']['total_bmi'] / unique_smoker_dict['yes']['count'])\n",
    "print('-' * horizontal_line_length)\n",
    "print(\"The average charges of a typical non_smoker client: \", unique_smoker_dict['no']['total_charges'] / unique_smoker_dict['no']['count'])\n",
    "print(\"The average charges of a typical smoker client: \", unique_smoker_dict['yes']['total_charges'] / unique_smoker_dict['yes']['count'])\n"
   ]
  },
  {
   "cell_type": "markdown",
   "metadata": {},
   "source": [
    "- The average BMI of a typical smoker is almost the same as the BMI of a typical non-smoker.\n",
    "- A typical non-smoker client needs to bay almost twice the insurance charge as much as a typical smoker client."
   ]
  },
  {
   "cell_type": "markdown",
   "metadata": {},
   "source": [
    "#### Find out the average `bmi` and insurance `charges`, and the total `smoker` for each region"
   ]
  },
  {
   "cell_type": "code",
   "execution_count": 288,
   "metadata": {},
   "outputs": [
    {
     "name": "stdout",
     "output_type": "stream",
     "text": [
      "The average BMI of the southwest region is 30.59661538461538\n",
      "The average BMI of the southeast region is 33.35598901098903\n",
      "The average BMI of the northwest region is 29.199784615384626\n",
      "The average BMI of the northeast region is 29.17350308641976\n",
      "----------------------------------------------------------------------------------------------------\n",
      "The average insurance costs of the southwest region is 12346.93737729231.\n",
      "The average insurance costs of the southeast region is 14735.411437609895.\n",
      "The average insurance costs of the northwest region is 12417.575373969228.\n",
      "The average insurance costs of the northeast region is 13406.3845163858.\n",
      "----------------------------------------------------------------------------------------------------\n",
      "There is one smoker for almost every 5.6 people in the southwest region\n",
      "There is one smoker for almost every 4.0 people in the southeast region\n",
      "There is one smoker for almost every 5.6 people in the northwest region\n",
      "There is one smoker for almost every 4.8 people in the northeast region\n"
     ]
    }
   ],
   "source": [
    "for i in range(row_count):\n",
    "    region = insurance_dict['region'][i]\n",
    "    unique_region_dict[region]['total_bmi'] = unique_region_dict[region].get('total_bmi', 0) + insurance_dict['bmi'][i]\n",
    "    unique_region_dict[region]['total_charges'] = unique_region_dict[region].get('total_charges', 0) + insurance_dict['charges'][i]\n",
    "    unique_region_dict[region]['total_smokers'] = unique_region_dict[region].get('total_smokers', 0) + (1 if insurance_dict['smoker'][i] == 'yes' else 0)\n",
    "# Figure out the average bmi among the 4 regions\n",
    "for key, value in unique_region_dict.items():\n",
    "    print(\"The average BMI of the {region} region is {value}\".format(region=key, value= value['total_bmi'] / value['count']))\n",
    "print('-' * horizontal_line_length)\n",
    "# Figure out the average insurance costs among the 4 regions\n",
    "for key, value in unique_region_dict.items():\n",
    "    print(\"The average insurance costs of the {region} region is {value}.\".format(region=key, value = value['total_charges'] / value['count']))\n",
    "print('-' * horizontal_line_length)\n",
    "for key, value in unique_region_dict.items():\n",
    "    print(\"There is one smoker for almost every {number} people in the {region} region\".format(number=round(value['count'] / value['total_smokers'], ndigits=1), region=key))"
   ]
  },
  {
   "cell_type": "markdown",
   "metadata": {},
   "source": [
    "- There is a notable diffence in the avereage BMI between the northern region (around 29) and the southern region (over 30).\n",
    "- The average insurance charges range from about $12,300 to 14,700 across regions - with Southeast region having the highest\n",
    "- Smokers are slightly more common in the eastern regions, especially the Southeast, where 1 in 4 clients is a smoker - compared to 1 in ~ 5.6 in both western regions"
   ]
  },
  {
   "cell_type": "markdown",
   "metadata": {},
   "source": [
    "#### Figure out the total `smoker`, `bmi`, and insurance `charges` among the 2 `sex`:"
   ]
  },
  {
   "cell_type": "code",
   "execution_count": 289,
   "metadata": {},
   "outputs": [
    {
     "name": "stdout",
     "output_type": "stream",
     "text": [
      "The average bmi for female: 30.4\n",
      "The average bmi for male: 30.9\n",
      "----------------------------------------------------------------------------------------------------\n",
      "The average insurance charges for female: 12569.6\n",
      "The average insurance charges for male: 13956.8\n",
      "----------------------------------------------------------------------------------------------------\n",
      "The average age for female: 39.5\n",
      "The average age for male: 38.9\n",
      "----------------------------------------------------------------------------------------------------\n",
      "There is one smoker for almost every 5.8 in female\n",
      "There is one smoker for almost every 4.3 in male\n"
     ]
    }
   ],
   "source": [
    "for i in range(row_count):\n",
    "    sex = insurance_dict['sex'][i]\n",
    "    unique_sex_dict[sex]['total_bmi'] = unique_sex_dict[sex].get('total_bmi', 0) + insurance_dict['bmi'][i]\n",
    "    unique_sex_dict[sex]['total_charges'] = unique_sex_dict[sex].get('total_charges', 0) + insurance_dict['charges'][i]\n",
    "    unique_sex_dict[sex]['total_age'] = unique_sex_dict[sex].get('total_age', 0) + insurance_dict['age'][i]\n",
    "    unique_sex_dict[sex]['total_smokers'] = unique_sex_dict[sex].get('total_smokers', 0) + (1 if insurance_dict['smoker'][i] == 'yes' else 0)\n",
    "\n",
    "for key, value in unique_sex_dict.items():\n",
    "    print(\"The average bmi for {sex}: {value}\".format(sex=key, value=round(value['total_bmi'] / value['count'], ndigits=1)))\n",
    "print('-' * horizontal_line_length)\n",
    "for key, value in unique_sex_dict.items():\n",
    "    print(\"The average insurance charges for {sex}: {charges}\".format(sex=key, charges=round(value['total_charges'] / value['count'], ndigits=1)))\n",
    "print('-' * horizontal_line_length)\n",
    "for key, value in unique_sex_dict.items():\n",
    "    print(\"The average age for {sex}: {age}\".format(sex=key, age=round(value['total_age'] / value['count'], ndigits=1)))\n",
    "print('-' * horizontal_line_length)\n",
    "for key, value in unique_sex_dict.items():\n",
    "    print(\"There is one smoker for almost every {number} in {sex}\".format(number=round(value['count'] / value['total_smokers'], ndigits=1), sex=key))"
   ]
  },
  {
   "cell_type": "markdown",
   "metadata": {},
   "source": [
    "- The average bmi for both male and female are almost around 30 with male's value a little higher (30.9)\n",
    "- On average, male clients pay about $1,400 more in insurance charges than female clients ($13,956 vs. $12,569).\n",
    "- “The average age difference between male and female clients is minimal — less than one year.\n",
    "- Smoking is more common among male clients, where there is one smoker for every 4 clients compared to female clients, where there is one smoker for almost every 6 clients."
   ]
  },
  {
   "cell_type": "markdown",
   "metadata": {},
   "source": [
    "TODO: go through the whole project again to polish if needed, and make sure the logic flow is smooth"
   ]
  }
 ],
 "metadata": {
  "kernelspec": {
   "display_name": "myenv",
   "language": "python",
   "name": "python3"
  },
  "language_info": {
   "codemirror_mode": {
    "name": "ipython",
    "version": 3
   },
   "file_extension": ".py",
   "mimetype": "text/x-python",
   "name": "python",
   "nbconvert_exporter": "python",
   "pygments_lexer": "ipython3",
   "version": "3.13.5"
  }
 },
 "nbformat": 4,
 "nbformat_minor": 4
}
