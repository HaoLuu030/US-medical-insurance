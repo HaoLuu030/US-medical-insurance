{
 "cells": [
  {
   "cell_type": "markdown",
   "metadata": {},
   "source": [
    "# U.S. Medical Insurance Costs"
   ]
  },
  {
   "cell_type": "markdown",
   "metadata": {},
   "source": [
    "### Dataset overview\n",
    "\n",
    "The dataset provides medical insurance information for individual clients from the United States.\n",
    "\n",
    "---\n",
    "### Variables in the Dataset(7 total):\n",
    "\n",
    "- **Age**: a *discrete numerical variable* indicating the clients' age\n",
    "- **Sex**: a *categorical variable* with two possible values - 'male' and 'female'\n",
    "- **BMI**: a *continuous numerical variable* short for \"body mass index\", represented as a float\n",
    "- **Children**: a *discrete numerical variable* showing the number of children for each client represented by an integer\n",
    "- **Smoker**: a *categorical binary variable* that indicates whether a client smokes ('yes') or not ('no')\n",
    "- **Charges**: a *continuous numerical variable* (represented as a float), denoting the insurance cost for each client (in USD)\n",
    "- **Region**: a *categorical nominal variable* representing the client's geographical region (e.g., northwest, southeast), rather than a specific city or district\n",
    "\n",
    "---\n",
    "\n",
    "### Goals\n",
    "- Apply what I have been learning about data science by exploring the dataset hands-on.\n",
    "- Develop the habit of not only performing analysis, but also **explaining the meaning and purpose behind each finding**.\n",
    "> For example, it is not enough to just ask:\n",
    "> *\"What are the unique values for categorical variables like 'region', 'sex', or 'smoker'?\"*\n",
    "> I should also clarify **why** I care about those values - what insights I can draw from finding the unique values of 'region' for example, and how I can relate this to other variables\n",
    "\n",
    "- The overall goal is to be **specific**, deliberate, and clear in how I communicate insights - not just what I observe, but what it really means.\n",
    "\n",
    "---\n",
    "\n",
    "### Key exploratory questions:\n",
    "\n",
    "- **How many *records* are there in the dataset?**\n",
    "> This is the most basic information to find out in the dataset. This establish an understanding of how large the dataset is and the result can be useful for downstream percentage-based calculations. \n",
    "- **What are the unique values or categories for categorical variables such as 'region', 'sex', 'smoker', or 'children'?**\n",
    "> This step helps define the structure of each category. Knowing all the possible values each variable can take is essential for downstream tasks such as analyzing the *distribution within a variable* or category-based *aggregations* (e.g., group by region or the smoker status)\n",
    "- **What are the distributions within a certain category?** (e.g., how many people in the dataset are a smoker and how many are not)\n",
    "> Examining the distribution allows me to understand which group dominates the dataset(e.g., whether most clients are male or female, or which region is most represented).\n",
    "> These distributions also support downstream tasks such as percentage-based calculations and subgroup comparisons and aggregations.\n",
    "- **What are the mean values for numerical variables?** (e.g., average age, number of children, insurance cost, or BMI)\n",
    "- What general insights can be drawn from these stastistics? For example:\n",
    "    - The average BMI may indicate the general health condition of the clients\n",
    "    - The avereage age my help identify the dominant age group in the dataset\n",
    "    - The proportion of smokers shows how common smoking is among clients\n",
    "    - gender distribution may reveal whethere males or females are more likely to have medical insurance\n",
    "    - What is the typical insurance cost?\n",
    "\n",
    "---\n"
   ]
  }
 ],
 "metadata": {
  "kernelspec": {
   "display_name": "myenv",
   "language": "python",
   "name": "python3"
  },
  "language_info": {
   "codemirror_mode": {
    "name": "ipython",
    "version": 3
   },
   "file_extension": ".py",
   "mimetype": "text/x-python",
   "name": "python",
   "nbconvert_exporter": "python",
   "pygments_lexer": "ipython3",
   "version": "3.13.5"
  }
 },
 "nbformat": 4,
 "nbformat_minor": 4
}
